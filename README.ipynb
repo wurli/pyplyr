{
 "cells": [
  {
   "cell_type": "markdown",
   "metadata": {},
   "source": [
    "# pyplyr\n",
    "\n",
    "An experimental data wrangling toolkit for Python, built on Numpy and inspired by dplyr.\n",
    "\n",
    "## Usage:"
   ]
  },
  {
   "cell_type": "code",
   "execution_count": 3,
   "metadata": {},
   "outputs": [
    {
     "data": {
      "text/plain": [
       "A DataFrame: 3 x 3\n",
       "  x             y       z\n",
       "  <str96> <int32> <int32>\n",
       "0 foo           1       3\n",
       "1 foo           2       4\n",
       "2 bar           3       5"
      ]
     },
     "execution_count": 3,
     "metadata": {},
     "output_type": "execute_result"
    }
   ],
   "source": [
    "import pyplyr as pyp\n",
    "\n",
    "# Initialise a dataframe:\n",
    "df = pyp.DataFrame(\n",
    "    x=['foo', 'foo', 'bar'], \n",
    "    y=[1, 2, 3], \n",
    "    z=[3, 4, 5]\n",
    ")\n",
    "\n",
    "df"
   ]
  },
  {
   "cell_type": "code",
   "execution_count": 4,
   "metadata": {},
   "outputs": [
    {
     "data": {
      "text/plain": [
       "A DataFrame: 3 x 5\n",
       "  x             y       z       a       b\n",
       "  <str96> <int32> <int32> <int32> <int32>\n",
       "0 bar           6       5       5      11\n",
       "1 foo           2       3       4       6\n",
       "2 foo           4       4       4       8"
      ]
     },
     "execution_count": 4,
     "metadata": {},
     "output_type": "execute_result"
    }
   ],
   "source": [
    "\n",
    "# Columns can be mutated and replaced, or new columns can be created:\n",
    "df2 = df \\\n",
    "    .mutate(\n",
    "        y=lambda y: y*2\n",
    "    ) \\\n",
    "    .mutate(\n",
    "        _by='x',\n",
    "        a=lambda z: z.max(),\n",
    "        b=lambda a, y: a + y\n",
    "    )\n",
    "\n",
    "df2"
   ]
  },
  {
   "cell_type": "code",
   "execution_count": 5,
   "metadata": {},
   "outputs": [
    {
     "data": {
      "text/plain": [
       "A DataFrame: 2 x 5\n",
       "  x             y       z       a       b\n",
       "  <str96> <int32> <int32> <int32> <int32>\n",
       "0 foo           2       3       4       6\n",
       "1 foo           4       4       4       8"
      ]
     },
     "execution_count": 5,
     "metadata": {},
     "output_type": "execute_result"
    }
   ],
   "source": [
    "df3 = df2 \\\n",
    "    .filter(\n",
    "        lambda a: a % 2 == 0,\n",
    "        lambda b: b % 2 == 0\n",
    "    )\n",
    "\n",
    "df3"
   ]
  },
  {
   "cell_type": "markdown",
   "metadata": {},
   "source": [
    "## Motivation\n",
    "\n",
    "* I thought this would be a good way to learn more about Python.\n",
    "\n",
    "* While pandas is extremely powerful, I don't find it to be particularly\n",
    "  user-friendly. I wanted to think about what my ideal alternative syntax\n",
    "  might look like.\n",
    "\n",
    "* Compared to many data toolkits (e.g. pandas or R's data.table), dplyr doesn't\n",
    "  play so many tricks under the surface to speed things up for you, \n",
    "  in particular it doesn't index tables or do 'in place' transformations.\n",
    "  However, at the expense of speed you get a simple and intuitive syntax which\n",
    "  makes working with data enjoyable. This project is a place for me to play\n",
    "  around with ideas for what this might look like in python.\n",
    "\n",
    "## Similar work\n",
    "\n",
    "* [siuba](https://github.com/machow/siuba) is a very cool attempt at a dplyr\n",
    "  implementation in python:\n",
    "  *  siuba implements 'siu expressions' - a sophisticated system for performating\n",
    "     calculations using special syntax - and overloads `>>` as a pipe operator. \n",
    "     In contrast to this, I'd like to build something which feels closer to \n",
    "     idiomatic Python.\n",
    "\n",
    "* [dplython](https://pythonhosted.org/dplython/) attempts to implement dplyr \n",
    "  syntax on top of a pandas backend.\n",
    "\n",
    "* [datar](https://github.com/pwwang/datar) attempts to implement dplyr syntax\n",
    "  on top of multiple backends, and also provides some ggplot2-style plotting\n",
    "  functionality.\n"
   ]
  }
 ],
 "metadata": {
  "kernelspec": {
   "display_name": "Python 3",
   "language": "python",
   "name": "python3"
  },
  "language_info": {
   "codemirror_mode": {
    "name": "ipython",
    "version": 3
   },
   "file_extension": ".py",
   "mimetype": "text/x-python",
   "name": "python",
   "nbconvert_exporter": "python",
   "pygments_lexer": "ipython3",
   "version": "3.10.2"
  }
 },
 "nbformat": 4,
 "nbformat_minor": 2
}
